{
 "cells": [
  {
   "cell_type": "markdown",
   "metadata": {},
   "source": [
    "Getting access of All Attributes"
   ]
  },
  {
   "cell_type": "code",
   "execution_count": 22,
   "metadata": {},
   "outputs": [],
   "source": [
    "class Car:\n",
    "\n",
    "    interest_rate = 0.01\n",
    "\n",
    "    def __init__(self, model:str, year=2000):\n",
    "        #Check the received arguements\n",
    "        assert 2025 > year >= 2000 , f\"I want car from 2000 to 2025 not {year}\" \n",
    "\n",
    "\n",
    "        # Assign to self object\n",
    "        self.model = model\n",
    "        self.year = year\n",
    "\n",
    "        print(\"A car is created!\")\n",
    "        print(f\"A model created > {model}\")\n",
    "    def price(self):  \n",
    "        return self.year * 1000          #function inside class called methods\n",
    "\n",
    "    def loss(self):\n",
    "        self.price = self.price() * Car.interest_rate\n"
   ]
  },
  {
   "cell_type": "code",
   "execution_count": null,
   "metadata": {},
   "outputs": [],
   "source": [
    "print(Car.__dict__) #All the attributes for class levels"
   ]
  },
  {
   "cell_type": "code",
   "execution_count": 24,
   "metadata": {},
   "outputs": [
    {
     "name": "stdout",
     "output_type": "stream",
     "text": [
      "A car is created!\n",
      "A model created > Ghost\n",
      "{'model': 'Ghost', 'year': 2000}\n"
     ]
    }
   ],
   "source": [
    "rollsRoyce = Car('Ghost')\n",
    "print(rollsRoyce.__dict__) #Provides all the attributes at Instance level \n",
    "#Output will be in dictionary.\n",
    "\n",
    "rollsRoyce.loss()"
   ]
  }
 ],
 "metadata": {
  "kernelspec": {
   "display_name": "Python 3",
   "language": "python",
   "name": "python3"
  },
  "language_info": {
   "codemirror_mode": {
    "name": "ipython",
    "version": 3
   },
   "file_extension": ".py",
   "mimetype": "text/x-python",
   "name": "python",
   "nbconvert_exporter": "python",
   "pygments_lexer": "ipython3",
   "version": "3.13.2"
  }
 },
 "nbformat": 4,
 "nbformat_minor": 2
}
